{
 "metadata": {
  "language_info": {
   "codemirror_mode": {
    "name": "ipython",
    "version": 3
   },
   "file_extension": ".py",
   "mimetype": "text/x-python",
   "name": "python",
   "nbconvert_exporter": "python",
   "pygments_lexer": "ipython3",
   "version": "3.9.4"
  },
  "orig_nbformat": 4,
  "kernelspec": {
   "name": "python3",
   "display_name": "Python 3.9.4 64-bit ('.venv': poetry)"
  },
  "interpreter": {
   "hash": "6f378f8b6a13a37140c18aa3a29ff63f9b08f930b166f3d5e56b7a6d974b89af"
  }
 },
 "nbformat": 4,
 "nbformat_minor": 2,
 "cells": [
  {
   "cell_type": "code",
   "execution_count": 2,
   "metadata": {},
   "outputs": [],
   "source": [
    "import seaborn as sns\n"
   ]
  },
  {
   "cell_type": "code",
   "execution_count": 3,
   "metadata": {},
   "outputs": [],
   "source": [
    "viz_a=sns.load_dataset('gammas')"
   ]
  },
  {
   "cell_type": "code",
   "execution_count": 4,
   "metadata": {},
   "outputs": [
    {
     "output_type": "execute_result",
     "data": {
      "text/plain": [
       "      timepoint  ROI  subject  BOLD signal\n",
       "0           0.0  IPS        0     0.513433\n",
       "1           0.0  IPS        1    -0.414368\n",
       "2           0.0  IPS        2     0.214695\n",
       "3           0.0  IPS        3     0.814809\n",
       "4           0.0  IPS        4    -0.894992\n",
       "...         ...  ...      ...          ...\n",
       "5995       10.0   V1       15     0.068646\n",
       "5996       10.0   V1       16     0.827451\n",
       "5997       10.0   V1       17     1.363256\n",
       "5998       10.0   V1       18     0.570810\n",
       "5999       10.0   V1       19    -0.048178\n",
       "\n",
       "[6000 rows x 4 columns]"
      ],
      "text/html": "<div>\n<style scoped>\n    .dataframe tbody tr th:only-of-type {\n        vertical-align: middle;\n    }\n\n    .dataframe tbody tr th {\n        vertical-align: top;\n    }\n\n    .dataframe thead th {\n        text-align: right;\n    }\n</style>\n<table border=\"1\" class=\"dataframe\">\n  <thead>\n    <tr style=\"text-align: right;\">\n      <th></th>\n      <th>timepoint</th>\n      <th>ROI</th>\n      <th>subject</th>\n      <th>BOLD signal</th>\n    </tr>\n  </thead>\n  <tbody>\n    <tr>\n      <th>0</th>\n      <td>0.0</td>\n      <td>IPS</td>\n      <td>0</td>\n      <td>0.513433</td>\n    </tr>\n    <tr>\n      <th>1</th>\n      <td>0.0</td>\n      <td>IPS</td>\n      <td>1</td>\n      <td>-0.414368</td>\n    </tr>\n    <tr>\n      <th>2</th>\n      <td>0.0</td>\n      <td>IPS</td>\n      <td>2</td>\n      <td>0.214695</td>\n    </tr>\n    <tr>\n      <th>3</th>\n      <td>0.0</td>\n      <td>IPS</td>\n      <td>3</td>\n      <td>0.814809</td>\n    </tr>\n    <tr>\n      <th>4</th>\n      <td>0.0</td>\n      <td>IPS</td>\n      <td>4</td>\n      <td>-0.894992</td>\n    </tr>\n    <tr>\n      <th>...</th>\n      <td>...</td>\n      <td>...</td>\n      <td>...</td>\n      <td>...</td>\n    </tr>\n    <tr>\n      <th>5995</th>\n      <td>10.0</td>\n      <td>V1</td>\n      <td>15</td>\n      <td>0.068646</td>\n    </tr>\n    <tr>\n      <th>5996</th>\n      <td>10.0</td>\n      <td>V1</td>\n      <td>16</td>\n      <td>0.827451</td>\n    </tr>\n    <tr>\n      <th>5997</th>\n      <td>10.0</td>\n      <td>V1</td>\n      <td>17</td>\n      <td>1.363256</td>\n    </tr>\n    <tr>\n      <th>5998</th>\n      <td>10.0</td>\n      <td>V1</td>\n      <td>18</td>\n      <td>0.570810</td>\n    </tr>\n    <tr>\n      <th>5999</th>\n      <td>10.0</td>\n      <td>V1</td>\n      <td>19</td>\n      <td>-0.048178</td>\n    </tr>\n  </tbody>\n</table>\n<p>6000 rows × 4 columns</p>\n</div>"
     },
     "metadata": {},
     "execution_count": 4
    }
   ],
   "source": [
    "viz_a"
   ]
  },
  {
   "cell_type": "code",
   "execution_count": null,
   "metadata": {},
   "outputs": [],
   "source": []
  }
 ]
}